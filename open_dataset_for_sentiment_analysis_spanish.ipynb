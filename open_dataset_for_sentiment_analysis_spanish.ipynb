{
  "nbformat": 4,
  "nbformat_minor": 0,
  "metadata": {
    "colab": {
      "name": "open-dataset-for-sentiment-analysis_spanish.ipynb",
      "provenance": [],
      "collapsed_sections": [],
      "include_colab_link": true
    },
    "kernelspec": {
      "name": "python3",
      "display_name": "Python 3"
    },
    "language_info": {
      "name": "python"
    }
  },
  "cells": [
    {
      "cell_type": "markdown",
      "metadata": {
        "id": "view-in-github",
        "colab_type": "text"
      },
      "source": [
        "<a href=\"https://colab.research.google.com/github/IsaacMMMM/NMA-DL_proyect/blob/main/open_dataset_for_sentiment_analysis_spanish.ipynb\" target=\"_parent\"><img src=\"https://colab.research.google.com/assets/colab-badge.svg\" alt=\"Open In Colab\"/></a>"
      ]
    },
    {
      "cell_type": "markdown",
      "metadata": {
        "id": "IGLANjs9ps1i"
      },
      "source": [
        "## Import dataset from github: \n",
        "#### Links: \n",
        "\n",
        "*   https://towardsdatascience.com/fasttext-sentiment-analysis-for-tweets-a-straightforward-guide-9a8c070449a2\n",
        "*   https://github.com/charlesmalafosse/open-dataset-for-sentiment-analysis\n",
        "*   https://github.com/charlesmalafosse/FastText-sentiment-analysis-for-tweets (método para extraer los datos)\n",
        "\n",
        "### Descripción:\n",
        "- Idioma: English/Spanish/French/German/Italian\n",
        "- Número de datos: Spanish tweets dataset => 1.2m tweets\n",
        "- Clases(4): Positive, negative, neutral, or mixed\n",
        "- Método de detección de sentimiento: The sentiment was generated thanks to AWS Comprehend API\n",
        "\n",
        "\n"
      ]
    },
    {
      "cell_type": "code",
      "metadata": {
        "colab": {
          "base_uri": "https://localhost:8080/"
        },
        "id": "urC75Atnckgf",
        "outputId": "a1bb24a1-f5c1-4909-fd08-d8b9226244b9"
      },
      "source": [
        "!git clone https://github.com/charlesmalafosse/open-dataset-for-sentiment-analysis.git"
      ],
      "execution_count": null,
      "outputs": [
        {
          "output_type": "stream",
          "text": [
            "Cloning into 'open-dataset-for-sentiment-analysis'...\n",
            "remote: Enumerating objects: 101, done.\u001b[K\n",
            "remote: Total 101 (delta 0), reused 0 (delta 0), pack-reused 101\u001b[K\n",
            "Receiving objects: 100% (101/101), 1.12 GiB | 44.51 MiB/s, done.\n",
            "Resolving deltas: 100% (21/21), done.\n",
            "Checking out files: 100% (55/55), done.\n"
          ],
          "name": "stdout"
        }
      ]
    },
    {
      "cell_type": "code",
      "metadata": {
        "id": "qEtJ4aExelXn",
        "colab": {
          "base_uri": "https://localhost:8080/"
        },
        "outputId": "7829d59e-d789-431b-8e50-83a79fd70a39"
      },
      "source": [
        "# Unzip\n",
        "zipF   = 'test.zip'\n",
        "path   = '/content/open-dataset-for-sentiment-analysis/betsentiment-ES-tweets-sentiment-worldcup-split.zip*'\n",
        "\n",
        "!cat $path > $zipF\n",
        "!unzip $zipF "
      ],
      "execution_count": null,
      "outputs": [
        {
          "output_type": "stream",
          "text": [
            "Archive:  test.zip\n",
            "  inflating: betsentiment-ES-tweets-sentiment-worldcup.csv  \n"
          ],
          "name": "stdout"
        }
      ]
    },
    {
      "cell_type": "markdown",
      "metadata": {
        "id": "ewM8XlYqrn-X"
      },
      "source": [
        "---\n",
        "# Análisis exploratiorio"
      ]
    },
    {
      "cell_type": "code",
      "metadata": {
        "id": "4ZrPwlFyixZ9"
      },
      "source": [
        "import pandas as pd"
      ],
      "execution_count": null,
      "outputs": []
    },
    {
      "cell_type": "markdown",
      "metadata": {
        "id": "ui6jB5gzqYrs"
      },
      "source": [
        "### Read data from csv"
      ]
    },
    {
      "cell_type": "code",
      "metadata": {
        "colab": {
          "base_uri": "https://localhost:8080/",
          "height": 424
        },
        "id": "PoS_zNJrlLA_",
        "outputId": "6fef6455-36cc-4c80-a345-cf289282d814"
      },
      "source": [
        "df = pd.read_csv('betsentiment-ES-tweets-sentiment-worldcup.csv',encoding='latin-1')\n",
        "\n",
        "print(f'Hay {df.shape[0]} twits (filas)\\n')\n",
        "df.sample(7)"
      ],
      "execution_count": null,
      "outputs": [
        {
          "output_type": "execute_result",
          "data": {
            "text/html": [
              "<div>\n",
              "<style scoped>\n",
              "    .dataframe tbody tr th:only-of-type {\n",
              "        vertical-align: middle;\n",
              "    }\n",
              "\n",
              "    .dataframe tbody tr th {\n",
              "        vertical-align: top;\n",
              "    }\n",
              "\n",
              "    .dataframe thead th {\n",
              "        text-align: right;\n",
              "    }\n",
              "</style>\n",
              "<table border=\"1\" class=\"dataframe\">\n",
              "  <thead>\n",
              "    <tr style=\"text-align: right;\">\n",
              "      <th></th>\n",
              "      <th>tweet_date_created</th>\n",
              "      <th>tweet_id</th>\n",
              "      <th>tweet_text</th>\n",
              "      <th>language</th>\n",
              "      <th>sentiment</th>\n",
              "      <th>sentiment_score</th>\n",
              "    </tr>\n",
              "  </thead>\n",
              "  <tbody>\n",
              "    <tr>\n",
              "      <th>607625</th>\n",
              "      <td>2018-06-23T06:45:14.825000</td>\n",
              "      <td>1010413453163597825</td>\n",
              "      <td>@telefe @MorfiTelefe @Argentina Los periodista...</td>\n",
              "      <td>es</td>\n",
              "      <td>NEUTRAL</td>\n",
              "      <td>{\"Neutral\":0.72653687000274658203125,\"Negative...</td>\n",
              "    </tr>\n",
              "    <tr>\n",
              "      <th>983363</th>\n",
              "      <td>2018-06-29T18:23:32.136000</td>\n",
              "      <td>1012763514044379136</td>\n",
              "      <td>@JuanAristiAngel @FCFSeleccionCol @DIM_Oficial...</td>\n",
              "      <td>es</td>\n",
              "      <td>NEGATIVE</td>\n",
              "      <td>{\"Neutral\":0.03846056759357452392578125,\"Negat...</td>\n",
              "    </tr>\n",
              "    <tr>\n",
              "      <th>838490</th>\n",
              "      <td>2018-06-19T03:59:35</td>\n",
              "      <td>1008922214912155648</td>\n",
              "      <td>@Andres__mcs @_Rodriguez_17 @FCFSeleccionCol N...</td>\n",
              "      <td>es</td>\n",
              "      <td>NEUTRAL</td>\n",
              "      <td>{\"Neutral\":0.615028321743011474609375,\"Negativ...</td>\n",
              "    </tr>\n",
              "    <tr>\n",
              "      <th>378416</th>\n",
              "      <td>2018-06-01T15:46:16</td>\n",
              "      <td>1002577074299817984</td>\n",
              "      <td>Retweeted El Marcador TV (@elmarcadortv):\\n\\nÚ...</td>\n",
              "      <td>es</td>\n",
              "      <td>NEUTRAL</td>\n",
              "      <td>{\"Neutral\":0.9667141437530517578125,\"Negative\"...</td>\n",
              "    </tr>\n",
              "    <tr>\n",
              "      <th>934537</th>\n",
              "      <td>2018-06-17T16:58:28</td>\n",
              "      <td>1008393451740782592</td>\n",
              "      <td>@eliassolorio @Peluchesoficial @miseleccionmx ...</td>\n",
              "      <td>es</td>\n",
              "      <td>POSITIVE</td>\n",
              "      <td>{\"Neutral\":0.434931099414825439453125,\"Negativ...</td>\n",
              "    </tr>\n",
              "    <tr>\n",
              "      <th>802169</th>\n",
              "      <td>2018-06-27T17:13:53.928000</td>\n",
              "      <td>1012021210442620928</td>\n",
              "      <td>@samumtiti @equipedefrance @franck_fife @FIFAW...</td>\n",
              "      <td>es</td>\n",
              "      <td>NEUTRAL</td>\n",
              "      <td>{\"Neutral\":0.943974435329437255859375,\"Negativ...</td>\n",
              "    </tr>\n",
              "    <tr>\n",
              "      <th>1056505</th>\n",
              "      <td>2018-06-19T11:57:57.552000</td>\n",
              "      <td>1009042599343255552</td>\n",
              "      <td>Gracias mi SELECCIÓN, te veo jugar nuevamente ...</td>\n",
              "      <td>es</td>\n",
              "      <td>POSITIVE</td>\n",
              "      <td>{\"Neutral\":0.008355648256838321685791015625,\"N...</td>\n",
              "    </tr>\n",
              "  </tbody>\n",
              "</table>\n",
              "</div>"
            ],
            "text/plain": [
              "                 tweet_date_created  ...                                    sentiment_score\n",
              "607625   2018-06-23T06:45:14.825000  ...  {\"Neutral\":0.72653687000274658203125,\"Negative...\n",
              "983363   2018-06-29T18:23:32.136000  ...  {\"Neutral\":0.03846056759357452392578125,\"Negat...\n",
              "838490          2018-06-19T03:59:35  ...  {\"Neutral\":0.615028321743011474609375,\"Negativ...\n",
              "378416          2018-06-01T15:46:16  ...  {\"Neutral\":0.9667141437530517578125,\"Negative\"...\n",
              "934537          2018-06-17T16:58:28  ...  {\"Neutral\":0.434931099414825439453125,\"Negativ...\n",
              "802169   2018-06-27T17:13:53.928000  ...  {\"Neutral\":0.943974435329437255859375,\"Negativ...\n",
              "1056505  2018-06-19T11:57:57.552000  ...  {\"Neutral\":0.008355648256838321685791015625,\"N...\n",
              "\n",
              "[7 rows x 6 columns]"
            ]
          },
          "metadata": {
            "tags": []
          },
          "execution_count": 30
        }
      ]
    },
    {
      "cell_type": "code",
      "metadata": {
        "colab": {
          "base_uri": "https://localhost:8080/",
          "height": 414
        },
        "id": "T4x0rgThn00x",
        "outputId": "2e45a267-d616-4330-a770-1ad8599d1ba6"
      },
      "source": [
        "print(\"Distribución de clases\")\n",
        "print(df['sentiment'].value_counts())\n",
        "\n",
        "df['sentiment'].value_counts().plot(kind='bar',color='g');"
      ],
      "execution_count": null,
      "outputs": [
        {
          "output_type": "stream",
          "text": [
            "Distribución de clases\n",
            "NEUTRAL     791427\n",
            "POSITIVE    156474\n",
            "NEGATIVE    116954\n",
            "MIXED         7606\n",
            "Name: sentiment, dtype: int64\n"
          ],
          "name": "stdout"
        },
        {
          "output_type": "display_data",
          "data": {
            "image/png": "[encoded data removed]",
            "text/plain": [
              "<Figure size 432x288 with 1 Axes>"
            ]
          },
          "metadata": {
            "tags": [],
            "needs_background": "light"
          }
        }
      ]
    },
    {
      "cell_type": "markdown",
      "metadata": {
        "id": "5qQgFTv6zaH-"
      },
      "source": [
        "### Show some tweet examples"
      ]
    },
    {
      "cell_type": "code",
      "metadata": {
        "colab": {
          "base_uri": "https://localhost:8080/"
        },
        "id": "4pZvIOCAuxlp",
        "outputId": "e26cfeb6-5076-4a20-e1c7-796a6ec7cc9c"
      },
      "source": [
        "def rtweet(df):\n",
        "  for id,tweet in df.iterrows():\n",
        "    print('\\033[4m' + tweet['sentiment'] + '\\033[0m'+': ' + tweet['tweet_text'])\n",
        "  print()\n",
        "\n",
        "[rtweet(df.query('sentiment== @nsen').sample(3)) for nsen in df['sentiment'].unique()];"
      ],
      "execution_count": null,
      "outputs": [
        {
          "output_type": "stream",
          "text": [
            "\u001b[4mNEUTRAL\u001b[0m: Una imagen especial por el fotografo de la Seleccion Peruana de Futbol! @SeleccionPeru #VamosPeru https://t.co/vuvzDyBJKV\n",
            "\u001b[4mNEUTRAL\u001b[0m: Mañana hay que ganar como sea señores. Gol con la oreja, la nuca, la rodilla. Sería bueno revisar la actitud de los uruguayos. Tener bastante peso en las colgantes. Hay que GANAR @FCFSeleccionCol\n",
            "\u001b[4mNEUTRAL\u001b[0m: Que tal Triunfo !!¡! México 1 Alemania 0 ,Siempre dije , ya no hay lógica ,se reduce la distancia  entre históricos y el resto en este Mundial ,Vamos Perú a dar el batacazo contra Francia #ArribaPerú .\n",
            "\n",
            "\u001b[4mNEGATIVE\u001b[0m: @paolapaezmd @FCFSeleccionCol Está difícil, pero tengo confianza en que son capaces de jugarles de frente y sin miedo #sepuede.\n",
            "\u001b[4mNEGATIVE\u001b[0m: @miseleccionmx por favor dennos una alegría mañana, ya que hoy fue un día triste, hoy no hubieron cosas chingonas.??\n",
            "\u001b[4mNEGATIVE\u001b[0m: @tdmas_cr Ojalá me equivoque pero esto le va a servir de experiencia a la @fedefutbolcrc  para que en un futuro no desperdicien una buena generación de futbolistas con un pésimo dt\n",
            "\n",
            "\u001b[4mPOSITIVE\u001b[0m: Se llegó el día VAMOS CON TODA MI TRICOLOR SI SE PUEDE, tenemos mucha fe en usted @SelecColombia @FCFSeleccionCol https://t.co/CLqmhnhjwt\n",
            "\u001b[4mPOSITIVE\u001b[0m: @DFB_Team_ES @anelmonroye @miseleccionmx Ansiosos de dar la gran sorpresa en este mundial y ver el triunfo de @miseleccionmx y si no es así ni modo . Todo puede suceder ...\n",
            "\u001b[4mPOSITIVE\u001b[0m: @EdsonAlvarez19 @miseleccionmx @miseleccionmxEN @Csalcedojr Con todo Edson! Odio al ame! Pero se que representas el equipo nacional! Y hay que estar con ustedes en las buenas y en la la malas! Dale tu puedes!\n",
            "\n",
            "\u001b[4mMIXED\u001b[0m: @RonaIdismo @Cristiano Bonito gesto, pero que digas que cristiano tiene humildad....., cada vez que habla es para tirarse flores, y eso no es precisamente humildad.\n",
            "\u001b[4mMIXED\u001b[0m: @sopitas Jajajaja me da risa...qué ustedes que son bien pinches aficionados de la @miseleccionmx no pueden dormir de la angustia y tristeando por un pendejo y mediocre marcador y estas pinches divas del fútbol, valiendoles verch lo que piensa ...Pero sigan apoyando a ese equipo de mierda\n",
            "\u001b[4mMIXED\u001b[0m: @miseleccionmx No importa si ganan o pierden mañana pero que se vea que dejaron todo en la cancha, me gusta apoyar a la selección de cabrones con huevos y que no se dejan de nadie chingao! A demostrar que los tienen bien puestos y que saben jugar como los mejores!\n",
            "\n"
          ],
          "name": "stdout"
        }
      ]
    },
    {
      "cell_type": "markdown",
      "metadata": {
        "id": "gffacdzC42Hf"
      },
      "source": [
        "### TODO: \n",
        "1.   Falta limpiar los datos ( parece que hay muchos @nombres, )\n",
        "2.   Text processing: \n",
        "> - Lowercasing\n",
        "> - Tokenization\n",
        "> - Lemmatization/Stemming\n",
        "> - Cleaning: (Stop words, Unwanted tokens/characters, Punctuation?)\n",
        "3.   Gráficas de distribución de palabras\n",
        "4.   Comenzar análisis iniciales con tweets\n",
        "\n",
        "\n"
      ]
    },
    {
      "cell_type": "markdown",
      "metadata": {
        "id": "Vp-kjrhh5NtS"
      },
      "source": [
        "## Algunos otros links: \n",
        "- [Free Twitter Datasets Mega Compilation](https://www.trackmyhashtag.com/blog/free-twitter-datasets/)\n",
        "- [Digital Narratives of COVID-19: A Twitter Dataset for Text Analysis in Spanish](https://openhumanitiesdata.metajnl.com/articles/10.5334/johd.28/#T1)\n",
        "- [Merequetengue huapanguero](https://colab.research.google.com/drive/1krtrtlx3JjSK7DxsQPQy0F6zI8yLeSO2?authuser=1#scrollTo=dgI-NyxoxViz)\n",
        "- [NMA-DL: Twitter Sentiment Analysis](https://colab.research.google.com/github/NeuromatchAcademy/course-content-dl/blob/main/projects/NaturalLanguageProcessing/sentiment_analysis.ipynb#scrollTo=E7Lnrcc-u6EU)\n",
        "- [NMA-DL(proyecto): Twitter Sentiment Analysis](https://deeplearning.neuromatch.io/_images/sentiment_analysis.svg)\n",
        "\n",
        "## Papers:\n",
        "- [Systematic literature review of sentiment analysis in the Spanish language](https://www.emerald.com/insight/content/doi/10.1108/DTA-09-2020-0200/full/html)\n",
        "\n"
      ]
    }
  ]
}